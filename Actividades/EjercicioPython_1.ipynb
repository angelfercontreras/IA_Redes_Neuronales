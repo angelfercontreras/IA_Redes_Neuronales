{
  "nbformat": 4,
  "nbformat_minor": 0,
  "metadata": {
    "colab": {
      "provenance": [],
      "authorship_tag": "ABX9TyP3FSgThqoYJNNa0GQs2/NX",
      "include_colab_link": true
    },
    "kernelspec": {
      "name": "python3",
      "display_name": "Python 3"
    },
    "language_info": {
      "name": "python"
    }
  },
  "cells": [
    {
      "cell_type": "markdown",
      "metadata": {
        "id": "view-in-github",
        "colab_type": "text"
      },
      "source": [
        "<a href=\"https://colab.research.google.com/github/angelfercontreras/IA_Redes_Neuronales/blob/main/Actividades/EjercicioPython_1.ipynb\" target=\"_parent\"><img src=\"https://colab.research.google.com/assets/colab-badge.svg\" alt=\"Open In Colab\"/></a>"
      ]
    },
    {
      "cell_type": "code",
      "execution_count": null,
      "metadata": {
        "colab": {
          "base_uri": "https://localhost:8080/",
          "height": 35
        },
        "id": "n5Lk8FKRxw7e",
        "outputId": "d916e23d-9c6f-4889-a740-379df05b94b4"
      },
      "outputs": [
        {
          "output_type": "execute_result",
          "data": {
            "text/plain": [
              "'\\nActividad 2: Diseño de algoritmos en Python\\nAngel Fernando Contreras García - 2017929 - N4\\nMateria: Inteligencia Artificial y Redes Neuronales\\n'"
            ],
            "application/vnd.google.colaboratory.intrinsic+json": {
              "type": "string"
            }
          },
          "metadata": {},
          "execution_count": 27
        }
      ],
      "source": [
        "'''\n",
        "Actividad 2: Diseño de algoritmos en Python\n",
        "Angel Fernando Contreras García - 2017929 - N4\n",
        "Materia: Inteligencia Artificial y Redes Neuronales\n",
        "'''"
      ]
    },
    {
      "cell_type": "code",
      "source": [
        "def saludo():\n",
        "    nombre = input(\"Introduce tu nombre: \")\n",
        "    if nombre in [\"Ana\", \"Juan\", \"Pedro\"]:\n",
        "        print(\"¡Hola!\")\n",
        "    else:\n",
        "        print(f\"¡Hola {nombre}!\")\n",
        "saludo()\n"
      ],
      "metadata": {
        "colab": {
          "base_uri": "https://localhost:8080/"
        },
        "id": "PRDGOoY1ziY9",
        "outputId": "6e35790e-cf9c-419a-b975-fdf995d34f29"
      },
      "execution_count": null,
      "outputs": [
        {
          "output_type": "stream",
          "name": "stdout",
          "text": [
            "Introduce tu nombre: Angel\n",
            "¡Hola Angel!\n"
          ]
        }
      ]
    },
    {
      "cell_type": "code",
      "source": [
        "def invertir_lista():\n",
        "    lista = input(\"Introduce una lista de las materias que mas te gustan separados por comas: \")\n",
        "    lista = lista.split(',')\n",
        "    lista_invertida = lista[::-1]\n",
        "    print(f\"La lista invertida es: {lista_invertida}\")\n",
        "invertir_lista()"
      ],
      "metadata": {
        "colab": {
          "base_uri": "https://localhost:8080/"
        },
        "id": "_MkTZvOE28Cx",
        "outputId": "4e0a73ab-d53a-45c2-90d7-53631b05ba5a"
      },
      "execution_count": null,
      "outputs": [
        {
          "output_type": "stream",
          "name": "stdout",
          "text": [
            "Introduce una lista de las materias que mas te gustan separados por comas: Maquinas Eléctricas, IA, Mec. Materiales, Potencia Fluida, Circuitos Eléctricos, Electronica Digital\n",
            "La lista invertida es: [' Electronica Digital', ' Circuitos Eléctricos', ' Potencia Fluida', ' Mec. Materiales', ' IA', 'Maquinas Eléctricas']\n"
          ]
        }
      ]
    },
    {
      "cell_type": "code",
      "source": [
        "def fibonacci():\n",
        "    n = int(input(\"¿Cuántos números de la serie de Fibonacci quieres generar? \"))\n",
        "    if n <= 0:\n",
        "        print(\"No se puede un número negativo o cero.\")\n",
        "    elif n == 1:\n",
        "        print(\"La serie de Fibonacci hasta el 1 es: [0]\")\n",
        "    else:\n",
        "        fib = [0, 1]\n",
        "        while len(fib) < n:\n",
        "            fib.append(fib[-1] + fib[-2])\n",
        "        print(f\"Los primeros {n} números de la serie de Fibonacci son: {fib}\")\n",
        "fibonacci()"
      ],
      "metadata": {
        "colab": {
          "base_uri": "https://localhost:8080/"
        },
        "id": "P3FwYRkx4wUC",
        "outputId": "d45a1980-fe17-4068-dc07-99fd874ed238"
      },
      "execution_count": null,
      "outputs": [
        {
          "output_type": "stream",
          "name": "stdout",
          "text": [
            "¿Cuántos números de la serie de Fibonacci quieres generar? 10\n",
            "Los primeros 10 números de la serie de Fibonacci son: [0, 1, 1, 2, 3, 5, 8, 13, 21, 34]\n"
          ]
        }
      ]
    },
    {
      "cell_type": "code",
      "source": [
        "import random\n",
        "def juego_adivinanza():\n",
        "    numero_objetivo = random.randint(1, 100)\n",
        "    intento = None\n",
        "    while intento != numero_objetivo:\n",
        "        intento = int(input(\"Adivina el número entre 1 y 100: \"))\n",
        "        if intento < numero_objetivo:\n",
        "            print(\"El número objetivo es mayor. Intenta de nuevo.\")\n",
        "        elif intento > numero_objetivo:\n",
        "            print(\"El número objetivo es menor. Intenta de nuevo.\")\n",
        "    print(\"¡Felicidades! Has adivinado correctamente el número.\")\n",
        "juego_adivinanza()"
      ],
      "metadata": {
        "colab": {
          "base_uri": "https://localhost:8080/"
        },
        "id": "XfcatzeZ79u3",
        "outputId": "3958013b-47e0-49b5-d11b-0b743ec9017c"
      },
      "execution_count": null,
      "outputs": [
        {
          "output_type": "stream",
          "name": "stdout",
          "text": [
            "Adivina el número entre 1 y 100: 50\n",
            "El número objetivo es mayor. Intenta de nuevo.\n",
            "Adivina el número entre 1 y 100: 75\n",
            "El número objetivo es menor. Intenta de nuevo.\n",
            "Adivina el número entre 1 y 100: 70\n",
            "El número objetivo es menor. Intenta de nuevo.\n",
            "Adivina el número entre 1 y 100: 60\n",
            "El número objetivo es mayor. Intenta de nuevo.\n",
            "Adivina el número entre 1 y 100: 65\n",
            "El número objetivo es menor. Intenta de nuevo.\n",
            "Adivina el número entre 1 y 100: 63\n",
            "El número objetivo es mayor. Intenta de nuevo.\n",
            "Adivina el número entre 1 y 100: 64\n",
            "¡Felicidades! Has adivinado correctamente el número.\n"
          ]
        }
      ]
    },
    {
      "cell_type": "code",
      "source": [
        "def primo(n):\n",
        "    if n < 2:\n",
        "        return False\n",
        "    for i in range(2, int(n**0.5) + 1):\n",
        "        if n % i == 0:\n",
        "            return False\n",
        "    return True\n",
        "def primos_en_rango():\n",
        "    inicio = int(input(\"Introduce el inicio del rango: \"))\n",
        "    fin = int(input(\"Introduce el fin del rango: \"))\n",
        "    primos = [n for n in range(inicio, fin+1) if primo(n)]\n",
        "    print(f\"Los números primos en el rango de {inicio} a {fin} son: {primos}\")\n",
        "primos_en_rango()"
      ],
      "metadata": {
        "colab": {
          "base_uri": "https://localhost:8080/"
        },
        "id": "-D6TJEga_VEN",
        "outputId": "86204fdf-6d3a-4d1e-a444-d10e00a02baa"
      },
      "execution_count": null,
      "outputs": [
        {
          "output_type": "stream",
          "name": "stdout",
          "text": [
            "Introduce el inicio del rango: 5\n",
            "Introduce el fin del rango: 90\n",
            "Los números primos en el rango de 5 a 90 son: [5, 7, 11, 13, 17, 19, 23, 29, 31, 37, 41, 43, 47, 53, 59, 61, 67, 71, 73, 79, 83, 89]\n"
          ]
        }
      ]
    },
    {
      "cell_type": "code",
      "source": [
        "def suma(a, b):\n",
        "    return a + b\n",
        "\n",
        "def resta(a, b):\n",
        "    return a - b\n",
        "\n",
        "def multiplicacion(a, b):\n",
        "    return a * b\n",
        "\n",
        "def division(a, b):\n",
        "    if b == 0:\n",
        "        return \"No se puede dividir entre cero\"\n",
        "    else:\n",
        "        return a / b\n",
        "\n",
        "def calculadora():\n",
        "    a = float(input(\"Introduce el primer número: \"))\n",
        "    b = float(input(\"Introduce el segundo número: \"))\n",
        "    print(f\"La suma de {a} y {b} es = {suma(a, b)}\")\n",
        "    print(f\"La resta de {a} y {b} es = {resta(a, b)}\")\n",
        "    print(f\"La multiplicación de {a} y {b} es = {multiplicacion(a, b)}\")\n",
        "    print(f\"La división de {a} y {b} es = {division(a, b)}\")\n",
        "calculadora()"
      ],
      "metadata": {
        "colab": {
          "base_uri": "https://localhost:8080/"
        },
        "id": "_xaxAXYsDu_z",
        "outputId": "0a4f9641-f020-427b-fbde-b54c0b9a13fe"
      },
      "execution_count": null,
      "outputs": [
        {
          "output_type": "stream",
          "name": "stdout",
          "text": [
            "Introduce el primer número: 8\n",
            "Introduce el segundo número: 4\n",
            "La suma de 8.0 y 4.0 es = 12.0\n",
            "La resta de 8.0 y 4.0 es = 4.0\n",
            "La multiplicación de 8.0 y 4.0 es = 32.0\n",
            "La división de 8.0 y 4.0 es = 2.0\n"
          ]
        }
      ]
    }
  ]
}