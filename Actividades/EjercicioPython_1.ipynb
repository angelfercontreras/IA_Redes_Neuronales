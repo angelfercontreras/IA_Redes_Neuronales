{
  "nbformat": 4,
  "nbformat_minor": 0,
  "metadata": {
    "colab": {
      "provenance": [],
      "include_colab_link": true
    },
    "kernelspec": {
      "name": "python3",
      "display_name": "Python 3"
    },
    "language_info": {
      "name": "python"
    }
  },
  "cells": [
    {
      "cell_type": "markdown",
      "metadata": {
        "id": "view-in-github",
        "colab_type": "text"
      },
      "source": [
        "<a href=\"https://colab.research.google.com/github/angelfercontreras/IA_Redes_Neuronales/blob/main/Actividades/EjercicioPython_1.ipynb\" target=\"_parent\"><img src=\"https://colab.research.google.com/assets/colab-badge.svg\" alt=\"Open In Colab\"/></a>"
      ]
    },
    {
      "cell_type": "code",
      "execution_count": 1,
      "metadata": {
        "colab": {
          "base_uri": "https://localhost:8080/",
          "height": 35
        },
        "id": "n5Lk8FKRxw7e",
        "outputId": "b5497879-fb95-42c8-a1b4-809832648f94"
      },
      "outputs": [
        {
          "output_type": "execute_result",
          "data": {
            "text/plain": [
              "'\\nActividad 2: Diseño de algoritmos en Python\\nAngel Fernando Contreras García - 2017929 - N4\\nMateria: Inteligencia Artificial y Redes Neuronales\\n'"
            ],
            "application/vnd.google.colaboratory.intrinsic+json": {
              "type": "string"
            }
          },
          "metadata": {},
          "execution_count": 1
        }
      ],
      "source": [
        "'''\n",
        "Actividad 2: Diseño de algoritmos en Python\n",
        "Angel Fernando Contreras García - 2017929 - N4\n",
        "Materia: Inteligencia Artificial y Redes Neuronales\n",
        "'''"
      ]
    },
    {
      "cell_type": "code",
      "source": [
        "'''\n",
        "EJERCICIO 1\n",
        "Desarrolla un algoritmo que le pida al usuario por su nombre y que lo salude con su nombre, excepto si se llama “Ana”, “Juan”, y “Pedro”.\n",
        "'''\n",
        "\n",
        "def saludo():\n",
        "    nombre = input(\"Introduce tu nombre: \")\n",
        "    if nombre in [\"Ana\", \"Juan\", \"Pedro\"]:\n",
        "        print(\"¡Hola!\")\n",
        "    else:\n",
        "        print(f\"¡Hola {nombre}!\")\n",
        "saludo()\n"
      ],
      "metadata": {
        "colab": {
          "base_uri": "https://localhost:8080/"
        },
        "id": "PRDGOoY1ziY9",
        "outputId": "e434381b-6055-408f-ab9b-8fb26a6edbe8"
      },
      "execution_count": 4,
      "outputs": [
        {
          "output_type": "stream",
          "name": "stdout",
          "text": [
            "Introduce tu nombre: Angel\n",
            "¡Hola Angel!\n"
          ]
        }
      ]
    },
    {
      "cell_type": "code",
      "source": [
        "'''\n",
        "EJERCICIO 2\n",
        "Desarrolla un algoritmo que por medio de una función, le pida al usuario una lista de N elementos y como resultado invierta el sentido de la lista.\n",
        "'''\n",
        "\n",
        "def invertir_lista():\n",
        "    lista = input(\"Introduce una lista de las materias que mas te gustan separados por comas: \")\n",
        "    lista = lista.split(',')\n",
        "    lista_invertida = lista[::-1]\n",
        "    print(f\"La lista invertida es: {lista_invertida}\")\n",
        "invertir_lista()"
      ],
      "metadata": {
        "colab": {
          "base_uri": "https://localhost:8080/"
        },
        "id": "_MkTZvOE28Cx",
        "outputId": "1a2536f6-7885-4c36-bc20-953ea0fa79d0"
      },
      "execution_count": 6,
      "outputs": [
        {
          "output_type": "stream",
          "name": "stdout",
          "text": [
            "Introduce una lista de las materias que mas te gustan separados por comas: IA, Maq.Electricas, Sens y Act, Intro. Mecatronica, Elec. Digital, Cir. Electricos, Maq de CNC\n",
            "La lista invertida es: [' Maq de CNC', ' Cir. Electricos', ' Elec. Digital', ' Intro. Mecatronica', ' Sens y Act', ' Maq.Electricas', 'IA']\n"
          ]
        }
      ]
    },
    {
      "cell_type": "code",
      "source": [
        "'''\n",
        "EJERCICIO 3\n",
        "Desarrolla un algoritmo que le pregunte al usuario cuántos números de la serie de Fibonacci quiere generar y que al final los imprima.\n",
        "'''\n",
        "\n",
        "def fibonacci():\n",
        "    n = int(input(\"¿Cuántos números de la serie de Fibonacci quieres generar? \"))\n",
        "    if n <= 0:\n",
        "        print(\"No se puede un número negativo o cero.\")\n",
        "    elif n == 1:\n",
        "        print(\"La serie de Fibonacci hasta el 1 es: [0]\")\n",
        "    else:\n",
        "        fib = [0, 1]\n",
        "        while len(fib) < n:\n",
        "            fib.append(fib[-1] + fib[-2])\n",
        "        print(f\"Los primeros {n} números de la serie de Fibonacci son: {fib}\")\n",
        "fibonacci()"
      ],
      "metadata": {
        "colab": {
          "base_uri": "https://localhost:8080/"
        },
        "id": "P3FwYRkx4wUC",
        "outputId": "f75da3a0-7212-4d3b-de0d-ea4609862b17"
      },
      "execution_count": 9,
      "outputs": [
        {
          "output_type": "stream",
          "name": "stdout",
          "text": [
            "¿Cuántos números de la serie de Fibonacci quieres generar? 15\n",
            "Los primeros 15 números de la serie de Fibonacci son: [0, 1, 1, 2, 3, 5, 8, 13, 21, 34, 55, 89, 144, 233, 377]\n"
          ]
        }
      ]
    },
    {
      "cell_type": "code",
      "source": [
        "'''\n",
        "EJERCICIO 4\n",
        "Juego de adivinar el número: Crea un programa que genere un número aleatorio entre 1 y 100, y luego le pida al usuario que\n",
        "adivine el número. El programa debe proporcionar pistas al usuario si el número es mayor o menor que el número objetivo, y\n",
        "seguir solicitando un nuevo intento hasta que el usuario adivine correctamente.\n",
        "'''\n",
        "\n",
        "import random\n",
        "def juego_adivinanza():\n",
        "    numero_objetivo = random.randint(1, 100)\n",
        "    intento = None\n",
        "    while intento != numero_objetivo:\n",
        "        intento = int(input(\"Adivina el número entre 1 y 100: \"))\n",
        "        if intento < numero_objetivo:\n",
        "            print(\"El número a adivinar es mayor. Intenta de nuevo.\")\n",
        "        elif intento > numero_objetivo:\n",
        "            print(\"El número a adivinar es menor. Intenta de nuevo.\")\n",
        "    print(\"¡Felicidades! Has adivinado correctamente el número.\")\n",
        "juego_adivinanza()"
      ],
      "metadata": {
        "colab": {
          "base_uri": "https://localhost:8080/"
        },
        "id": "XfcatzeZ79u3",
        "outputId": "6a22c769-5038-489e-c807-50c6e0b4327e"
      },
      "execution_count": 11,
      "outputs": [
        {
          "output_type": "stream",
          "name": "stdout",
          "text": [
            "Adivina el número entre 1 y 100: 50\n",
            "El número a adivinar es mayor. Intenta de nuevo.\n",
            "Adivina el número entre 1 y 100: 75\n",
            "El número a adivinar es menor. Intenta de nuevo.\n",
            "Adivina el número entre 1 y 100: 65\n",
            "El número a adivinar es menor. Intenta de nuevo.\n",
            "Adivina el número entre 1 y 100: 60\n",
            "El número a adivinar es mayor. Intenta de nuevo.\n",
            "Adivina el número entre 1 y 100: 63\n",
            "El número a adivinar es mayor. Intenta de nuevo.\n",
            "Adivina el número entre 1 y 100: 64\n",
            "¡Felicidades! Has adivinado correctamente el número.\n"
          ]
        }
      ]
    },
    {
      "cell_type": "code",
      "source": [
        "'''\n",
        "EJERCICIO 5\n",
        "Ejercicio de cálculo de números primos en un rango dado: Escribe un programa que solicite al usuario un rango de números y muestre todos los\n",
        "números primos dentro de ese rango.\n",
        "'''\n",
        "\n",
        "def primo(n):\n",
        "    if n < 2:\n",
        "        return False\n",
        "    for i in range(2, int(n**0.5) + 1):\n",
        "        if n % i == 0:\n",
        "            return False\n",
        "    return True\n",
        "def primos_en_rango():\n",
        "    inicio = int(input(\"Introduce el inicio del rango: \"))\n",
        "    fin = int(input(\"Introduce el fin del rango: \"))\n",
        "    primos = [n for n in range(inicio, fin+1) if primo(n)]\n",
        "    print(f\"Los números primos en el rango de {inicio} a {fin} son: {primos}\")\n",
        "primos_en_rango()"
      ],
      "metadata": {
        "colab": {
          "base_uri": "https://localhost:8080/"
        },
        "id": "-D6TJEga_VEN",
        "outputId": "6bceae8b-323b-4a51-d0d9-328f3c86f731"
      },
      "execution_count": 16,
      "outputs": [
        {
          "output_type": "stream",
          "name": "stdout",
          "text": [
            "Introduce el inicio del rango: 4\n",
            "Introduce el fin del rango: 60\n",
            "Los números primos en el rango de 4 a 60 son: [5, 7, 11, 13, 17, 19, 23, 29, 31, 37, 41, 43, 47, 53, 59]\n"
          ]
        }
      ]
    },
    {
      "cell_type": "code",
      "source": [
        "'''\n",
        "EJERCICIO 6\n",
        "Ejercicio de implementación de una calculadora básica utilizando funciones: Escribe un programa que solicite al usuario dos\n",
        "números y realice operaciones básicas como suma, resta, multiplicación y división utilizando funciones separadas para cada operación.\n",
        "'''\n",
        "\n",
        "def suma(a, b):\n",
        "    return a + b\n",
        "\n",
        "def resta(a, b):\n",
        "    return a - b\n",
        "\n",
        "def multiplicacion(a, b):\n",
        "    return a * b\n",
        "\n",
        "def division(a, b):\n",
        "    if b == 0:\n",
        "        return \"No se puede dividir entre cero\"\n",
        "    else:\n",
        "        return a / b\n",
        "\n",
        "def calculadora():\n",
        "    a = float(input(\"Introduce el primer número: \"))\n",
        "    b = float(input(\"Introduce el segundo número: \"))\n",
        "    print(f\"La suma de {a} y {b} es = {suma(a, b)}\")\n",
        "    print(f\"La resta de {a} y {b} es = {resta(a, b)}\")\n",
        "    print(f\"La multiplicación de {a} y {b} es = {multiplicacion(a, b)}\")\n",
        "    print(f\"La división de {a} y {b} es = {division(a, b)}\")\n",
        "calculadora()"
      ],
      "metadata": {
        "colab": {
          "base_uri": "https://localhost:8080/"
        },
        "id": "_xaxAXYsDu_z",
        "outputId": "e2d3abea-59e6-4960-9d13-411dde7da145"
      },
      "execution_count": 20,
      "outputs": [
        {
          "output_type": "stream",
          "name": "stdout",
          "text": [
            "Introduce el primer número: 8\n",
            "Introduce el segundo número: 12\n",
            "La suma de 8.0 y 12.0 es = 20.0\n",
            "La resta de 8.0 y 12.0 es = -4.0\n",
            "La multiplicación de 8.0 y 12.0 es = 96.0\n",
            "La división de 8.0 y 12.0 es = 0.6666666666666666\n"
          ]
        }
      ]
    }
  ]
}